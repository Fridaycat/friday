{
 "cells": [
  {
   "cell_type": "code",
   "execution_count": 55,
   "metadata": {},
   "outputs": [
    {
     "data": {
      "text/html": [
       "<div>\n",
       "<style scoped>\n",
       "    .dataframe tbody tr th:only-of-type {\n",
       "        vertical-align: middle;\n",
       "    }\n",
       "\n",
       "    .dataframe tbody tr th {\n",
       "        vertical-align: top;\n",
       "    }\n",
       "\n",
       "    .dataframe thead th {\n",
       "        text-align: right;\n",
       "    }\n",
       "</style>\n",
       "<table border=\"1\" class=\"dataframe\">\n",
       "  <thead>\n",
       "    <tr style=\"text-align: right;\">\n",
       "      <th></th>\n",
       "      <th>Unnamed: 0</th>\n",
       "      <th>2000</th>\n",
       "      <th>2001</th>\n",
       "      <th>2002</th>\n",
       "      <th>2003</th>\n",
       "      <th>2004</th>\n",
       "      <th>2005</th>\n",
       "    </tr>\n",
       "  </thead>\n",
       "  <tbody>\n",
       "    <tr>\n",
       "      <td>0</td>\n",
       "      <td>CO2 emissions(Kt)</td>\n",
       "      <td>24,689,911</td>\n",
       "      <td>25,276,631</td>\n",
       "      <td>25,646,998</td>\n",
       "      <td>27,047,792</td>\n",
       "      <td>28,393,581</td>\n",
       "      <td>29,490,014</td>\n",
       "    </tr>\n",
       "    <tr>\n",
       "      <td>1</td>\n",
       "      <td>美國總人口</td>\n",
       "      <td>282,162,411</td>\n",
       "      <td>284,968,955</td>\n",
       "      <td>287,625,193</td>\n",
       "      <td>290,107,933</td>\n",
       "      <td>292,805,298</td>\n",
       "      <td>295,516,599</td>\n",
       "    </tr>\n",
       "    <tr>\n",
       "      <td>2</td>\n",
       "      <td>美國每年碳排放量(Kt)</td>\n",
       "      <td>5,693,684.894</td>\n",
       "      <td>5,595,794.329</td>\n",
       "      <td>5,641,309.133</td>\n",
       "      <td>5,675,701.926</td>\n",
       "      <td>5,756,075.232</td>\n",
       "      <td>5,789,727.291</td>\n",
       "    </tr>\n",
       "    <tr>\n",
       "      <td>3</td>\n",
       "      <td>美國平均每人每年碳排放量(Kt)</td>\n",
       "      <td>0.020178751</td>\n",
       "      <td>0.019636505</td>\n",
       "      <td>0.019613404</td>\n",
       "      <td>0.019564105</td>\n",
       "      <td>0.019658371</td>\n",
       "      <td>0.019591885</td>\n",
       "    </tr>\n",
       "  </tbody>\n",
       "</table>\n",
       "</div>"
      ],
      "text/plain": [
       "          Unnamed: 0            2000            2001            2002  \\\n",
       "0  CO2 emissions(Kt)      24,689,911      25,276,631      25,646,998   \n",
       "1              美國總人口     282,162,411     284,968,955     287,625,193   \n",
       "2       美國每年碳排放量(Kt)  5,693,684.894   5,595,794.329   5,641,309.133    \n",
       "3   美國平均每人每年碳排放量(Kt)     0.020178751     0.019636505     0.019613404   \n",
       "\n",
       "             2003            2004            2005  \n",
       "0      27,047,792      28,393,581      29,490,014  \n",
       "1     290,107,933     292,805,298     295,516,599  \n",
       "2  5,675,701.926   5,756,075.232   5,789,727.291   \n",
       "3     0.019564105     0.019658371     0.019591885  "
      ]
     },
     "execution_count": 55,
     "metadata": {},
     "output_type": "execute_result"
    }
   ],
   "source": [
    "%matplotlib inline\n",
    "import matplotlib.pyplot as plt\n",
    "import pandas as pd\n",
    "import numpy as np\n",
    "\n",
    "\n",
    "climate_data = pd.read_csv('climate change.csv',encoding=\"big5\")\n",
    "climate_data.head()"
   ]
  }
 ],
 "metadata": {
  "kernelspec": {
   "display_name": "Python 3",
   "language": "python",
   "name": "python3"
  },
  "language_info": {
   "codemirror_mode": {
    "name": "ipython",
    "version": 3
   },
   "file_extension": ".py",
   "mimetype": "text/x-python",
   "name": "python",
   "nbconvert_exporter": "python",
   "pygments_lexer": "ipython3",
   "version": "3.7.4"
  }
 },
 "nbformat": 4,
 "nbformat_minor": 2
}
