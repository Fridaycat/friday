{
 "cells": [
  {
   "cell_type": "code",
   "execution_count": 94,
   "metadata": {},
   "outputs": [
    {
     "data": {
      "text/html": [
       "<div>\n",
       "<style scoped>\n",
       "    .dataframe tbody tr th:only-of-type {\n",
       "        vertical-align: middle;\n",
       "    }\n",
       "\n",
       "    .dataframe tbody tr th {\n",
       "        vertical-align: top;\n",
       "    }\n",
       "\n",
       "    .dataframe thead th {\n",
       "        text-align: right;\n",
       "    }\n",
       "</style>\n",
       "<table border=\"1\" class=\"dataframe\">\n",
       "  <thead>\n",
       "    <tr style=\"text-align: right;\">\n",
       "      <th></th>\n",
       "      <th>year</th>\n",
       "      <th>CO2 emissions(Kt)</th>\n",
       "      <th>美國總人口</th>\n",
       "      <th>美國每年碳排放量(Kt)</th>\n",
       "      <th>美國平均每人每年碳排放量(Kt)</th>\n",
       "      <th>美國每年佔全球總碳排放量%</th>\n",
       "    </tr>\n",
       "  </thead>\n",
       "  <tbody>\n",
       "    <tr>\n",
       "      <td>0</td>\n",
       "      <td>2000</td>\n",
       "      <td>24,689,911</td>\n",
       "      <td>282,162,411</td>\n",
       "      <td>5,693,684.89</td>\n",
       "      <td>0.020179</td>\n",
       "      <td>0.230608</td>\n",
       "    </tr>\n",
       "    <tr>\n",
       "      <td>1</td>\n",
       "      <td>2001</td>\n",
       "      <td>25,276,631</td>\n",
       "      <td>284,968,955</td>\n",
       "      <td>5,595,794.33</td>\n",
       "      <td>0.019637</td>\n",
       "      <td>0.221382</td>\n",
       "    </tr>\n",
       "    <tr>\n",
       "      <td>2</td>\n",
       "      <td>2002</td>\n",
       "      <td>25,646,998</td>\n",
       "      <td>287,625,193</td>\n",
       "      <td>5,641,309.13</td>\n",
       "      <td>0.019613</td>\n",
       "      <td>0.219960</td>\n",
       "    </tr>\n",
       "    <tr>\n",
       "      <td>3</td>\n",
       "      <td>2003</td>\n",
       "      <td>27,047,792</td>\n",
       "      <td>290,107,933</td>\n",
       "      <td>5,675,701.93</td>\n",
       "      <td>0.019564</td>\n",
       "      <td>0.209840</td>\n",
       "    </tr>\n",
       "    <tr>\n",
       "      <td>4</td>\n",
       "      <td>2004</td>\n",
       "      <td>28,393,581</td>\n",
       "      <td>292,805,298</td>\n",
       "      <td>5,756,075.23</td>\n",
       "      <td>0.019658</td>\n",
       "      <td>0.202725</td>\n",
       "    </tr>\n",
       "    <tr>\n",
       "      <td>5</td>\n",
       "      <td>2005</td>\n",
       "      <td>29,490,014</td>\n",
       "      <td>295,516,599</td>\n",
       "      <td>5,789,727.29</td>\n",
       "      <td>0.019592</td>\n",
       "      <td>0.196328</td>\n",
       "    </tr>\n",
       "  </tbody>\n",
       "</table>\n",
       "</div>"
      ],
      "text/plain": [
       "   year CO2 emissions(Kt)        美國總人口  美國每年碳排放量(Kt)  美國平均每人每年碳排放量(Kt)  \\\n",
       "0  2000        24,689,911  282,162,411  5,693,684.89          0.020179   \n",
       "1  2001        25,276,631  284,968,955  5,595,794.33          0.019637   \n",
       "2  2002        25,646,998  287,625,193  5,641,309.13          0.019613   \n",
       "3  2003        27,047,792  290,107,933  5,675,701.93          0.019564   \n",
       "4  2004        28,393,581  292,805,298  5,756,075.23          0.019658   \n",
       "5  2005        29,490,014  295,516,599  5,789,727.29          0.019592   \n",
       "\n",
       "   美國每年佔全球總碳排放量%  \n",
       "0       0.230608  \n",
       "1       0.221382  \n",
       "2       0.219960  \n",
       "3       0.209840  \n",
       "4       0.202725  \n",
       "5       0.196328  "
      ]
     },
     "execution_count": 94,
     "metadata": {},
     "output_type": "execute_result"
    }
   ],
   "source": [
    "%matplotlib inline\n",
    "import matplotlib.pyplot as plt\n",
    "import pandas as pd\n",
    "import numpy as np\n",
    "\n",
    "\n",
    "climate_data = pd.read_csv('climate change.csv',encoding=\"big5\")\n",
    "climate_data.head(6)"
   ]
  },
  {
   "cell_type": "code",
   "execution_count": 3,
   "metadata": {},
   "outputs": [
    {
     "data": {
      "image/png": "[encoded data removed]",
      "text/plain": [
       "<Figure size 1080x504 with 1 Axes>"
      ]
     },
     "metadata": {
      "needs_background": "light"
     },
     "output_type": "display_data"
    }
   ],
   "source": [
    "%matplotlib inline\n",
    "import matplotlib.pyplot as plt\n",
    "import pandas as pd\n",
    "import numpy as np\n",
    "import matplotlib as mb     #我多加的程式1\n",
    "\n",
    "#IMPORT LIBRARY FORM SITE-PAKAGE 建議把所有的\"import\"都寫在上面啦\n",
    "\n",
    "climate_data = pd.read_csv('climate change.csv',encoding=\"big5\")\n",
    "climate_data.head(6)\n",
    "\n",
    "\n",
    "\n",
    "\n",
    "fig = plt.figure(figsize=(15, 7))\n",
    "ax1 = fig.add_subplot()\n",
    "\n",
    "\n",
    "x = ['2000', '2001', '2002', '2003', '2004','2005']\n",
    "CO2 = [24689911,25276631,25646998, 27047792,28393581,29490014]\n",
    "\n",
    "plt.yticks([0,22000000,24000000,26000000,28000000,30000000])\n",
    "plt.xlabel('year')\n",
    "plt.ylabel('CO2 emissions(Kt)')\n",
    "plt.bar(x, CO2, label = 'CO2')\n",
    "\n",
    "ax1.get_yaxis().set_major_formatter(mb.ticker.FuncFormatter(lambda x, p: format(int(x), ',')))#我多加的程式2\n",
    "\n",
    "\n",
    "plt.show()\n"
   ]
  },
  {
   "cell_type": "code",
   "execution_count": null,
   "metadata": {},
   "outputs": [],
   "source": []
  }
 ],
 "metadata": {
  "kernelspec": {
   "display_name": "Python 3",
   "language": "python",
   "name": "python3"
  },
  "language_info": {
   "codemirror_mode": {
    "name": "ipython",
    "version": 3
   },
   "file_extension": ".py",
   "mimetype": "text/x-python",
   "name": "python",
   "nbconvert_exporter": "python",
   "pygments_lexer": "ipython3",
   "version": "3.7.4"
  }
 },
 "nbformat": 4,
 "nbformat_minor": 2
}
